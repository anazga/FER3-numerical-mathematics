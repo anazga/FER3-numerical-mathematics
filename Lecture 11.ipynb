{
 "cells": [
  {
   "cell_type": "markdown",
   "metadata": {},
   "source": [
    "# Interpolation by splines\n",
    "\n"
   ]
  },
  {
   "cell_type": "markdown",
   "metadata": {},
   "source": [
    "We will use the functions for solving system with tridiagonal matrix"
   ]
  },
  {
   "cell_type": "code",
   "execution_count": 1,
   "metadata": {},
   "outputs": [],
   "source": [
    "def LUdecomptridiagonal(a,b,c):\n",
    "    n=len(b)\n",
    "    for k in range(1,n):\n",
    "        mu=a[k-1]/b[k-1]\n",
    "        b[k]=b[k]-mu*c[k-1]\n",
    "        a[k-1]=mu\n",
    "    return a,b,c\n",
    "\n",
    "def LUsolvetridiagonal(a,b,c,f):\n",
    "    n=len(b)\n",
    "    for k in range(1,n):\n",
    "        f[k]=f[k]-a[k-1]*f[k-1]\n",
    "    f[n-1]=f[n-1]/b[n-1]\n",
    "    for k in range(n-2,-1,-1):\n",
    "        f[k]=(f[k]-c[k]*f[k+1])/b[k]\n",
    "    return f\n",
    "\n"
   ]
  },
  {
   "cell_type": "markdown",
   "metadata": {},
   "source": [
    "In the following code, we compute the coefficients $ \\gamma $ for a natural cubic spline that interpolates the data xData and yData, and then compute the value of $s(1.5)$. To do this, it is necessary to calculate the corresponding coefficients of the polynomial on the segment where the point is located. You can find  this example in the video, and part of the implementation is taken from the literature"
   ]
  },
  {
   "cell_type": "code",
   "execution_count": 2,
   "metadata": {},
   "outputs": [
    {
     "data": {
      "text/plain": [
       "0.7678571428571428"
      ]
     },
     "execution_count": 2,
     "metadata": {},
     "output_type": "execute_result"
    }
   ],
   "source": [
    "import numpy as np\n",
    "import matplotlib.pyplot as plt\n",
    "from scipy.interpolate import interp1d\n",
    "\n",
    "xData=np.array([1 ,2 , 3, 4, 5])\n",
    "yData=np.array([0,1, 0, 1, 0])\n",
    "\n",
    "def gamma_calc(xData,yData):\n",
    "    n=len(xData)-1\n",
    "    lower_diag=np.zeros(n)\n",
    "    main_diag=np.ones(n+1)\n",
    "    upper_diag=np.zeros(n)\n",
    "    gamma=np.zeros(n+1)\n",
    "    lower_diag[0:n-1]=xData[0:n-1]-xData[1:n]\n",
    "    main_diag[1:n]=2.0*(xData[0:n-1]-xData[2:n+1])\n",
    "    upper_diag[1:n]=xData[1:n]-xData[2:n+1]\n",
    "    gamma[1:n] =6.0*(yData[0:n-1]-yData[1:n])/(xData[0:n-1] - xData[1:n])-6.0*(yData[1:n] - yData[2:n+1])/(xData[1:n] - xData[2:n+1])\n",
    "    LUdecomptridiagonal(lower_diag,main_diag,upper_diag)\n",
    "    LUsolvetridiagonal(lower_diag,main_diag,upper_diag,gamma)\n",
    "    return gamma\n",
    "\n",
    "def evalSpline(xData,yData,k,x):\n",
    "    def findSegment(xData,x):\n",
    "        iLeft = 0\n",
    "        iRight = len(xData)- 1\n",
    "        while 1:\n",
    "            if (iRight-iLeft)<= 1: return iLeft\n",
    "            i =int((iLeft + iRight)/2)\n",
    "            if x < xData[i]: iRight = i\n",
    "            else: iLeft = i\n",
    "    i = findSegment(xData,x)\n",
    "    h = xData[i] - xData[i+1]\n",
    "    y = ((x - xData[i+1])**3/h - (x - xData[i+1])*h)*k[i]/6.0 - ((x - xData[i])**3/h - (x - xData[i])*h)*k[i+1]/6.0 + (yData[i]*(x - xData[i+1])- yData[i+1]*(x - xData[i]))/h\n",
    "    return y\n",
    "\n",
    "gamma=gamma_calc(xData,yData)\n",
    "evalSpline(xData,yData,gamma,1.5)\n"
   ]
  },
  {
   "cell_type": "markdown",
   "metadata": {},
   "source": [
    "In the next part of the lecture, we will solve exercises related to spline interpolation."
   ]
  },
  {
   "cell_type": "code",
   "execution_count": 7,
   "metadata": {},
   "outputs": [
    {
     "data": {
      "text/html": [
       "\n",
       "        <iframe\n",
       "            width=\"400\"\n",
       "            height=\"300\"\n",
       "            src=\"https://www.youtube.com/embed/efwGO_KD_eQ\"\n",
       "            frameborder=\"0\"\n",
       "            allowfullscreen\n",
       "        ></iframe>\n",
       "        "
      ],
      "text/plain": [
       "<IPython.lib.display.YouTubeVideo at 0x1ebd1367780>"
      ]
     },
     "metadata": {},
     "output_type": "display_data"
    }
   ],
   "source": [
    "from IPython.lib.display import YouTubeVideo\n",
    "vid = YouTubeVideo(\"efwGO_KD_eQ\")\n",
    "display(vid)"
   ]
  },
  {
   "cell_type": "markdown",
   "metadata": {},
   "source": [
    "In the next part of the lecture, we introduce the important properties of a cubic spline.\n",
    "\n"
   ]
  },
  {
   "cell_type": "markdown",
   "metadata": {},
   "source": [
    "*Literatura po kojoj je izrađen dio predavanja: Jan Kiussalas: Numerical methods in engineering with Python, Cambridge University press*"
   ]
  },
  {
   "cell_type": "code",
   "execution_count": 5,
   "metadata": {
    "scrolled": true
   },
   "outputs": [
    {
     "data": {
      "image/jpeg": "[encoded data removed]",
      "text/html": [
       "\n",
       "        <iframe\n",
       "            width=\"400\"\n",
       "            height=\"300\"\n",
       "            src=\"https://www.youtube.com/embed/NP9FLoOjaQY\"\n",
       "            frameborder=\"0\"\n",
       "            allowfullscreen\n",
       "        ></iframe>\n",
       "        "
      ],
      "text/plain": [
       "<IPython.lib.display.YouTubeVideo at 0x1ebd1349c18>"
      ]
     },
     "metadata": {},
     "output_type": "display_data"
    }
   ],
   "source": [
    "vid = YouTubeVideo(\"NP9FLoOjaQY\")\n",
    "display(vid)"
   ]
  },
  {
   "cell_type": "markdown",
   "metadata": {},
   "source": [
    "# Introduction to numerical integration"
   ]
  },
  {
   "cell_type": "markdown",
   "metadata": {},
   "source": [
    "In the next part of the lecture, we introduce Newton-Cotes formulas\n"
   ]
  },
  {
   "cell_type": "code",
   "execution_count": 6,
   "metadata": {},
   "outputs": [
    {
     "data": {
      "text/html": [
       "\n",
       "        <iframe\n",
       "            width=\"400\"\n",
       "            height=\"300\"\n",
       "            src=\"https://www.youtube.com/embed/7mjRGj3x2Qk\"\n",
       "            frameborder=\"0\"\n",
       "            allowfullscreen\n",
       "        ></iframe>\n",
       "        "
      ],
      "text/plain": [
       "<IPython.lib.display.YouTubeVideo at 0x1ebd1387cf8>"
      ]
     },
     "metadata": {},
     "output_type": "display_data"
    }
   ],
   "source": [
    "vid = YouTubeVideo(\"7mjRGj3x2Qk\")\n",
    "display(vid)"
   ]
  },
  {
   "cell_type": "code",
   "execution_count": null,
   "metadata": {},
   "outputs": [],
   "source": []
  }
 ],
 "metadata": {
  "kernelspec": {
   "display_name": "Python 3",
   "language": "python",
   "name": "python3"
  },
  "language_info": {
   "codemirror_mode": {
    "name": "ipython",
    "version": 3
   },
   "file_extension": ".py",
   "mimetype": "text/x-python",
   "name": "python",
   "nbconvert_exporter": "python",
   "pygments_lexer": "ipython3",
   "version": "3.6.4"
  }
 },
 "nbformat": 4,
 "nbformat_minor": 2
}
