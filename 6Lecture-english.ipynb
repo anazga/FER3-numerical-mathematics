{
 "cells": [
  {
   "cell_type": "markdown",
   "metadata": {},
   "source": [
    "# Error analysis in solution"
   ]
  },
  {
   "cell_type": "code",
   "execution_count": 5,
   "metadata": {},
   "outputs": [
    {
     "data": {
      "text/html": [
       "\n",
       "        <iframe\n",
       "            width=\"400\"\n",
       "            height=\"300\"\n",
       "            src=\"https://www.youtube.com/embed/m8rUApZAD40\"\n",
       "            frameborder=\"0\"\n",
       "            allowfullscreen\n",
       "        ></iframe>\n",
       "        "
      ],
      "text/plain": [
       "<IPython.lib.display.YouTubeVideo at 0x209c3f1a780>"
      ]
     },
     "metadata": {},
     "output_type": "display_data"
    }
   ],
   "source": [
    "from IPython.lib.display import YouTubeVideo\n",
    "vid = YouTubeVideo(\"m8rUApZAD40\")\n",
    "display(vid)"
   ]
  },
  {
   "cell_type": "markdown",
   "metadata": {},
   "source": [
    "Let us examine a system\n",
    "$$A=\\begin{bmatrix} 10 & 7& 8& 7\\\\ 7& 5& 6& 5\\\\ 8 & 6& 10& 9\\\\ 7& 5& 10& 9\\end{bmatrix}\\quad b=\\begin{bmatrix}32\\\\ 23\\\\ 33\\\\ 31\\end{bmatrix}$$"
   ]
  },
  {
   "cell_type": "code",
   "execution_count": 34,
   "metadata": {},
   "outputs": [
    {
     "name": "stdout",
     "output_type": "stream",
     "text": [
      "x= [1. 1. 1. 1.]\n"
     ]
    }
   ],
   "source": [
    "import numpy as np\n",
    "A = np.array([[10, 7, 8, 7], [7, 5, 6, 5], [8, 6, 10, 9], [7, 5, 9, 10]])\n",
    "b = np.array([32,23, 33, 31])\n",
    "x = np.linalg.solve(A,b)\n",
    "print(\"x=\",x)"
   ]
  },
  {
   "cell_type": "markdown",
   "metadata": {},
   "source": [
    "If we now take the right hand side to be $$b=\\begin{bmatrix}32.1\\\\ 22.9\\\\ 33.1\\\\ 30.9\\end{bmatrix}$$"
   ]
  },
  {
   "cell_type": "code",
   "execution_count": 3,
   "metadata": {},
   "outputs": [
    {
     "name": "stdout",
     "output_type": "stream",
     "text": [
      "x= [  9.2 -12.6   4.5  -1.1]\n"
     ]
    }
   ],
   "source": [
    "c=np.array([32.1,22.9, 33.1, 30.9])\n",
    "x = np.linalg.solve(A,c)\n",
    "print(\"x=\",x)"
   ]
  },
  {
   "cell_type": "code",
   "execution_count": 35,
   "metadata": {},
   "outputs": [
    {
     "name": "stdout",
     "output_type": "stream",
     "text": [
      "Eigenvalues= [1.01500484e-02 8.43107150e-01 3.85805746e+00 3.02886853e+01]\n"
     ]
    }
   ],
   "source": [
    "eig=np.linalg.eigvalsh(A)\n",
    "print(\"Eigenvalues=\", eig)"
   ]
  },
  {
   "cell_type": "markdown",
   "metadata": {},
   "source": [
    "If we solve a system with the matrix\n",
    "$$A=\\begin{bmatrix} 10 & 7& 8.1 & 7.2 \\\\ 7.08 & 5.04 & 6& 5\\\\ 8 & 5.98 & 9.89 & 9\\\\ 6.99 & 4.99 & 9 & 9.98\\end{bmatrix}\\quad b=\\begin{bmatrix}32\\\\ 23\\\\ 33\\\\ 31\\end{bmatrix}$$"
   ]
  },
  {
   "cell_type": "code",
   "execution_count": 36,
   "metadata": {},
   "outputs": [
    {
     "name": "stdout",
     "output_type": "stream",
     "text": [
      "x= [-81. 137. -34.  22.]\n"
     ]
    }
   ],
   "source": [
    "import numpy as np\n",
    "A = np.array([[10, 7, 8.1, 7.2], [7.08, 5.04, 6, 5], [8, 5.98, 9.89, 9], [6.99, 4.99, 9, 9.98]])\n",
    "b = np.array([32,23, 33, 31])\n",
    "x = np.linalg.solve(A,b)\n",
    "print(\"x=\",x)"
   ]
  },
  {
   "cell_type": "markdown",
   "metadata": {},
   "source": [
    "# Condition number of a regular matrix"
   ]
  },
  {
   "cell_type": "code",
   "execution_count": 4,
   "metadata": {},
   "outputs": [
    {
     "data": {
      "image/jpeg": "[encoded data removed]",
      "text/html": [
       "\n",
       "        <iframe\n",
       "            width=\"400\"\n",
       "            height=\"300\"\n",
       "            src=\"https://www.youtube.com/embed/DU08gjV9W6M\"\n",
       "            frameborder=\"0\"\n",
       "            allowfullscreen\n",
       "        ></iframe>\n",
       "        "
      ],
      "text/plain": [
       "<IPython.lib.display.YouTubeVideo at 0x209c3ef8c88>"
      ]
     },
     "metadata": {},
     "output_type": "display_data"
    }
   ],
   "source": [
    "vid = YouTubeVideo(\"DU08gjV9W6M\")\n",
    "display(vid)"
   ]
  },
  {
   "cell_type": "markdown",
   "metadata": {},
   "source": [
    "If we have\n",
    "$$A=\\begin{bmatrix} 4.1 & 2.8\\\\ 9.7 & 6.6\\end{bmatrix} \\quad  b=\\begin{bmatrix} 4.1\\\\ 9.7 \\end{bmatrix}$$"
   ]
  },
  {
   "cell_type": "code",
   "execution_count": 38,
   "metadata": {},
   "outputs": [
    {
     "name": "stdout",
     "output_type": "stream",
     "text": [
      "x= [1. 0.]\n"
     ]
    }
   ],
   "source": [
    "import numpy as np\n",
    "A = np.array([[4.1, 2.8], [9.7, 6.6]])\n",
    "b = np.array([4.1,9.7])\n",
    "x = np.linalg.solve(A,b)\n",
    "print(\"x=\",x)"
   ]
  },
  {
   "cell_type": "markdown",
   "metadata": {},
   "source": [
    "If we take\n",
    "$$c=\\begin{bmatrix} 4.11\\\\ 9.70 \\end{bmatrix}$$"
   ]
  },
  {
   "cell_type": "code",
   "execution_count": 39,
   "metadata": {},
   "outputs": [
    {
     "name": "stdout",
     "output_type": "stream",
     "text": [
      "X= [0.34 0.97]\n"
     ]
    }
   ],
   "source": [
    "c=np.array([4.11,9.70])\n",
    "x = np.linalg.solve(A,c)\n",
    "print(\"x=\",x)"
   ]
  },
  {
   "cell_type": "markdown",
   "metadata": {},
   "source": [
    "Calculate the condition number in a norm 1!"
   ]
  },
  {
   "cell_type": "code",
   "execution_count": null,
   "metadata": {},
   "outputs": [],
   "source": []
  }
 ],
 "metadata": {
  "kernelspec": {
   "display_name": "Python 3",
   "language": "python",
   "name": "python3"
  },
  "language_info": {
   "codemirror_mode": {
    "name": "ipython",
    "version": 3
   },
   "file_extension": ".py",
   "mimetype": "text/x-python",
   "name": "python",
   "nbconvert_exporter": "python",
   "pygments_lexer": "ipython3",
   "version": "3.6.4"
  }
 },
 "nbformat": 4,
 "nbformat_minor": 2
}
